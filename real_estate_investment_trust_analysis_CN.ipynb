{
 "cells": [
  {
   "cell_type": "markdown",
   "metadata": {},
   "source": [
    "# REIT STOCK ANALYSIS"
   ]
  },
  {
   "cell_type": "markdown",
   "metadata": {},
   "source": [
    "In this project, you will analyze Real Estate Investment Trusts, commonly known as REITs. REITs are companies that own or operate real estate that produces income. REITs, like the stocks of regular public companies, are traded on different stock exchanges. Investing in a REIT allows you to invest in portfolios of real estate assets the same way you can invest in a company by buying its stock.\n",
    "\n",
    "Using financial statistics and NumPy you will analyze two REITs: [Sabra Health Care REIT Inc. (NASDAQ: SBRA)](https://finance.yahoo.com/quote/SBRA/), which invests in health care real estate, and [Equity Residential (NASDAQ:EQR)](https://finance.yahoo.com/quote/EQR/), which invests in rental apartment properties."
   ]
  },
  {
   "cell_type": "markdown",
   "metadata": {},
   "source": [
    "The time period for analysis we will be using is `Jan 1 2018` to `Dec 31 2018`. The REIT data for SBRA (`SBRA.csv`) and EQR (`EQR.csv`) can be found in the same folder as this file."
   ]
  },
  {
   "cell_type": "markdown",
   "metadata": {},
   "source": [
    "1. Import the numpy module as np"
   ]
  },
  {
   "cell_type": "code",
   "execution_count": 42,
   "metadata": {},
   "outputs": [],
   "source": [
    "import numpy as np"
   ]
  },
  {
   "cell_type": "markdown",
   "metadata": {},
   "source": [
    "2. Load the adjusted closings for SBRA"
   ]
  },
  {
   "cell_type": "code",
   "execution_count": 43,
   "metadata": {},
   "outputs": [],
   "source": [
    "sbra_data = np.genfromtxt('SBRA.csv', delimiter=',')"
   ]
  },
  {
   "cell_type": "markdown",
   "metadata": {},
   "source": [
    "3. Load the adjusted closings for EQR"
   ]
  },
  {
   "cell_type": "code",
   "execution_count": 44,
   "metadata": {},
   "outputs": [],
   "source": [
    "eqr_data = np.genfromtxt('EQR.csv', delimiter=',')"
   ]
  },
  {
   "cell_type": "markdown",
   "metadata": {},
   "source": [
    "## Simple Rate of Return Function"
   ]
  },
  {
   "cell_type": "markdown",
   "metadata": {},
   "source": [
    "4. To calculate the daily rate of return for the SBRA stock, we need the daily adjusted closing price. The formula we are using for the daily rate of return is out[n] = a[n+1] - a[n] "
   ]
  },
  {
   "cell_type": "markdown",
   "metadata": {},
   "source": [
    "5. Create a function that returns the daily rate of return\n",
    "\n",
    "    step 1. define a function named `rate_of_return`\n",
    "    \n",
    "    step 2. create parameter for  `adj_closings`\n",
    "    \n",
    "    step 3. Within the function use np.diff() and set it to the variable `daily_simple_ror`\n",
    "    \n",
    "    step 4. return `daily_simple_ror`"
   ]
  },
  {
   "cell_type": "code",
   "execution_count": 45,
   "metadata": {},
   "outputs": [],
   "source": [
    "adj_closings_sbra = sbra_data[1:,4]\n",
    "adj_closings_eqr = eqr_data[1:,4]\n",
    "\n",
    "def simple_rate_of_return(adj_closing):\n",
    "    daily_simple_ror = np.diff(adj_closing)/adj_closing[:-1]\n",
    "    return daily_simple_ror"
   ]
  },
  {
   "cell_type": "markdown",
   "metadata": {},
   "source": [
    "## Calculate Daily Rate of Return for SBRA"
   ]
  },
  {
   "cell_type": "markdown",
   "metadata": {},
   "source": [
    "6. Call the function `simple_rate_of_return` with the arguments `adj_closings_sbra`. Then print the results. "
   ]
  },
  {
   "cell_type": "code",
   "execution_count": 46,
   "metadata": {},
   "outputs": [
    {
     "name": "stdout",
     "output_type": "stream",
     "text": [
      "[ 0.04231487  0.03223887  0.02139959  0.03227633  0.00548546 -0.00054555\n",
      " -0.00491266 -0.00932534  0.00885936  0.02469819  0.01446176  0.01319958\n",
      " -0.00208447  0.01044386  0.01498703  0.01680244  0.01552339 -0.00049315\n",
      "  0.00937341  0.00391017 -0.01071086  0.01230315 -0.00631983  0.00489237\n",
      "  0.00876329 -0.00772201 -0.00243186 -0.01267674 -0.00148153 -0.02176054\n",
      "  0.01061673 -0.008004   -0.0075643  -0.00101626 -0.00406918 -0.02655776\n",
      " -0.01364113 -0.01861692 -0.01788618 -0.02262704 -0.00395257  0.00056695\n",
      " -0.00623224 -0.00171043 -0.00285557  0.01832772  0.01293583  0.0188784\n",
      "  0.00163482 -0.00435256 -0.00928962  0.00220634  0.01210782  0.03371403\n",
      " -0.01578122  0.00855168  0.01695813  0.00573205  0.01709845 -0.00815079\n",
      " -0.0071905  -0.00103471 -0.00983936  0.00366109  0.01042199 -0.00464157\n",
      " -0.00362689  0.01300052  0.01026694  0.         -0.00101626 -0.02085453\n",
      " -0.02441553  0.01916922 -0.0161964   0.01646304  0.01044937  0.\n",
      "  0.01292658 -0.00969883  0.00824737 -0.00153364  0.00256011  0.02145046\n",
      " -0.005      -0.0160804   0.00919305 -0.02479757  0.02490919 -0.0035443\n",
      "  0.00914639  0.00805634  0.00899106 -0.02425752 -0.00913232  0.0102406\n",
      " -0.00152048  0.00050751  0.00202948 -0.01063286 -0.01637676  0.00780447\n",
      " -0.0041301  -0.00259207 -0.00727651  0.01151832  0.00672883  0.0020565\n",
      " -0.00872242 -0.00155274  0.00155516  0.00828157 -0.00256674  0.0185281\n",
      " -0.01061147  0.02860056 -0.00446872 -0.0239401  -0.01328569 -0.00258928\n",
      " -0.02024917  0.03073662  0.01233933]\n"
     ]
    }
   ],
   "source": [
    "daily_simple_returns_sbra = simple_rate_of_return(adj_closings_sbra)\n",
    "print(daily_simple_returns_sbra)"
   ]
  },
  {
   "cell_type": "markdown",
   "metadata": {},
   "source": [
    "## Calculate Daily Rate of Return for EQR"
   ]
  },
  {
   "cell_type": "markdown",
   "metadata": {},
   "source": [
    "7. Call the function `simple_rate_of_return` with the arguments `adj_closings_eqr`. Then print the results. "
   ]
  },
  {
   "cell_type": "code",
   "execution_count": 47,
   "metadata": {
    "scrolled": true
   },
   "outputs": [
    {
     "name": "stdout",
     "output_type": "stream",
     "text": [
      "[ 0.00627362  0.00623432  0.00836431  0.01874043  0.          0.01643552\n",
      "  0.00207683  0.00118422  0.01227269  0.00905643  0.01201508  0.00300385\n",
      "  0.00399314 -0.00085236  0.0001422   0.00454869  0.01485783  0.00906305\n",
      " -0.00511266  0.00777775 -0.00744213  0.01069153  0.00219805  0.00068544\n",
      "  0.00739727 -0.00135979  0.00027229 -0.0125238   0.01033912 -0.00231953\n",
      "  0.0012308   0.00437099 -0.01155989  0.01623557  0.0050095  -0.00983434\n",
      "  0.00299321 -0.00529027  0.00490931 -0.0025784   0.00653065 -0.0006759\n",
      " -0.00513996 -0.00163158  0.00285985  0.0108637   0.00819453 -0.00186541\n",
      "  0.00200232 -0.00399675 -0.01043337 -0.00648828  0.00163269  0.01589239\n",
      " -0.00521459  0.00094085  0.00899688 -0.00212931  0.0086689  -0.00409886\n",
      " -0.00451403  0.00946918 -0.00396358 -0.00145908  0.00438366 -0.00066133\n",
      " -0.00224985  0.01273377  0.00445323  0.00990996  0.00193675 -0.02409787\n",
      " -0.01901495  0.01049938 -0.01198884  0.01065122  0.00680366  0.00662515\n",
      "  0.00302746 -0.01181095  0.01487377  0.00130854 -0.00156815  0.00248683\n",
      " -0.00496144 -0.01889518 -0.00441347  0.00510476  0.01349909  0.00013179\n",
      " -0.00039554  0.00501258  0.0081375  -0.00247357 -0.01135478  0.00805282\n",
      "  0.00366682  0.00613259  0.00103749 -0.01269598 -0.0070857   0.00198232\n",
      "  0.00989185 -0.00430981 -0.00996846  0.02344988  0.0069903   0.0024425\n",
      " -0.00192358 -0.00038544 -0.00192803  0.0036059   0.0042346   0.0052389\n",
      " -0.00788096  0.00486864  0.00510011 -0.01014846  0.00307571 -0.01737566\n",
      " -0.01638281 -0.00052876  0.00409995]\n"
     ]
    }
   ],
   "source": [
    "daily_simple_returns_eqr = simple_rate_of_return(adj_closings_eqr)\n",
    "print(daily_simple_returns_eqr)"
   ]
  },
  {
   "cell_type": "markdown",
   "metadata": {},
   "source": [
    "## Calculate Average Daily Return for SBRA"
   ]
  },
  {
   "cell_type": "markdown",
   "metadata": {},
   "source": [
    "8. Use `np.mean()` with the argument `daily_simple_returns_sbra` to calculate the average daily return for SBRA. Then set it to the variable name `average_daily_simple_return_sbra`"
   ]
  },
  {
   "cell_type": "code",
   "execution_count": 48,
   "metadata": {},
   "outputs": [
    {
     "name": "stdout",
     "output_type": "stream",
     "text": [
      "0.0017475945157022234\n"
     ]
    }
   ],
   "source": [
    "average_daily_simple_return_sbra = np.mean(daily_simple_returns_sbra)\n",
    "print(average_daily_simple_return_sbra)"
   ]
  },
  {
   "cell_type": "markdown",
   "metadata": {},
   "source": [
    "## Calculate Average Daily Return for EQR"
   ]
  },
  {
   "cell_type": "markdown",
   "metadata": {},
   "source": [
    "9. Use `np.mean()` with the argument `daily_simple_returns_eqr` to calculate the average daily return for EQR. Then set it to the variable name `average_daily_simple_return_eqr`"
   ]
  },
  {
   "cell_type": "code",
   "execution_count": 49,
   "metadata": {},
   "outputs": [
    {
     "name": "stdout",
     "output_type": "stream",
     "text": [
      "0.0014543987262532621\n"
     ]
    }
   ],
   "source": [
    "average_daily_simple_return_eqr = np.mean(daily_simple_returns_eqr)\n",
    "print(average_daily_simple_return_eqr)"
   ]
  },
  {
   "cell_type": "markdown",
   "metadata": {},
   "source": [
    "## Compare the Average Daily Return between EQR and SBRA"
   ]
  },
  {
   "cell_type": "markdown",
   "metadata": {},
   "source": [
    "10. Based on the average daily simple returns of EQR and SBRA, which stock is more likely to be profitable in the future?"
   ]
  },
  {
   "cell_type": "markdown",
   "metadata": {},
   "source": [
    "The stock that is most likely to be profitabe is EQR as it has a higher average rate of return"
   ]
  },
  {
   "cell_type": "markdown",
   "metadata": {},
   "source": [
    "## Daily Log Returns Function"
   ]
  },
  {
   "cell_type": "markdown",
   "metadata": {},
   "source": [
    "11. Create a function that returns the daily rate of return\n",
    "\n",
    "    step 1. define a function named log_returns\n",
    "    \n",
    "    step 2. create parameter for  `adj_closings`\n",
    "    \n",
    "    step 3. use np.log() to get the log of each adjusted closing price and set it to the variable `log_adj_closings`\n",
    "    \n",
    "    step 4. use np.diff() to get the diff of each daily log adjusted closing price and set it to the variable `daily_log_returns`\n",
    "    \n",
    "    step 5. return `daily_log_returns`"
   ]
  },
  {
   "cell_type": "code",
   "execution_count": 50,
   "metadata": {},
   "outputs": [],
   "source": [
    "def log_returns(adj_closings):\n",
    "    log_adj_closings = np.log(adj_closings)\n",
    "    daily_log_returns = np.diff(log_adj_closings)\n",
    "    return daily_log_returns"
   ]
  },
  {
   "cell_type": "markdown",
   "metadata": {},
   "source": [
    "## Calculate Daily Log Returns for SBRA"
   ]
  },
  {
   "cell_type": "markdown",
   "metadata": {},
   "source": [
    "12. Call the function `log_returns` with the arguments `adj_closings_sbra`. Set it to the variable `daily_log_returns_sbra`. Then print the results. "
   ]
  },
  {
   "cell_type": "code",
   "execution_count": 51,
   "metadata": {
    "scrolled": true
   },
   "outputs": [
    {
     "name": "stdout",
     "output_type": "stream",
     "text": [
      "[ 0.04144408  0.0317301   0.02117384  0.03176639  0.00547047 -0.0005457\n",
      " -0.00492477 -0.0093691   0.00882034  0.02439812  0.01435818  0.01311322\n",
      " -0.00208665  0.0103897   0.01487583  0.01666285  0.01540413 -0.00049327\n",
      "  0.00932975  0.00390254 -0.01076863  0.01222808 -0.00633989  0.00488044\n",
      "  0.00872512 -0.00775198 -0.00243482 -0.01275778 -0.00148263 -0.02200079\n",
      "  0.01056077 -0.00803621 -0.00759305 -0.00101678 -0.00407748 -0.02691679\n",
      " -0.01373503 -0.01879239 -0.01804807 -0.02288696 -0.0039604   0.00056679\n",
      " -0.00625174 -0.0017119  -0.00285965  0.01816179  0.01285287  0.01870242\n",
      "  0.00163349 -0.00436206 -0.00933304  0.00220391  0.0120351   0.03315817\n",
      " -0.01590707  0.00851533  0.01681595  0.00571568  0.01695391 -0.00818419\n",
      " -0.00721647 -0.00103525 -0.00988808  0.0036544   0.01036806 -0.00465237\n",
      " -0.00363348  0.01291674  0.01021459  0.         -0.00101678 -0.02107505\n",
      " -0.02471853  0.01898781 -0.01632899  0.01632899  0.01039516  0.\n",
      "  0.01284374 -0.00974617  0.00821355 -0.00153482  0.00255684  0.02122364\n",
      " -0.00501254 -0.01621109  0.00915106 -0.02511021  0.02460401 -0.0035506\n",
      "  0.00910482  0.00802406  0.00895088 -0.02455658 -0.00917427  0.01018852\n",
      " -0.00152163  0.00050738  0.00202742 -0.01068979 -0.01651235  0.00777418\n",
      " -0.00413865 -0.00259543 -0.00730311  0.01145249  0.00670629  0.00205439\n",
      " -0.00876068 -0.00155395  0.00155395  0.00824747 -0.00257003  0.01835855\n",
      " -0.01066817  0.0281992  -0.00447873 -0.02423132 -0.01337474 -0.00259264\n",
      " -0.02045699  0.03027371  0.01226382]\n"
     ]
    }
   ],
   "source": [
    "daily_log_returns_sbra = log_returns(adj_closings_sbra)\n",
    "print(daily_log_returns_sbra)"
   ]
  },
  {
   "cell_type": "markdown",
   "metadata": {},
   "source": [
    "## Calculate Daily Log Returns for EQR"
   ]
  },
  {
   "cell_type": "markdown",
   "metadata": {},
   "source": [
    "13. Call the function `log_returns` with the arguments `adj_closings_eqr`. Set it to the variable `daily_log_returns_eqr`. Then print the results. "
   ]
  },
  {
   "cell_type": "code",
   "execution_count": 52,
   "metadata": {},
   "outputs": [],
   "source": [
    "daily_log_returns_eqr = log_returns(adj_closings_eqr)"
   ]
  },
  {
   "cell_type": "markdown",
   "metadata": {},
   "source": [
    "## Annualize Daily Log Return Function"
   ]
  },
  {
   "cell_type": "markdown",
   "metadata": {},
   "source": [
    "14. Create a function that returns the daily rate of return\n",
    "\n",
    "    step 1. define a function named `annualize_log_return`\n",
    "    \n",
    "    step 2. create parameter for  `daily_log_returns`\n",
    "    \n",
    "    step 3. use `np.mean()` with the argument `daily_log_returns` to calculate the average daily return. Then set it to the variable name `average_daily_log_returns`\n",
    "    \n",
    "    step 4. then multiply `average_daily_log_returns` by 250 and set it to the variable `annualized_log_return`\n",
    "    \n",
    "    step 5. return `annualized_log_return`"
   ]
  },
  {
   "cell_type": "code",
   "execution_count": 53,
   "metadata": {},
   "outputs": [
    {
     "name": "stdout",
     "output_type": "stream",
     "text": [
      "0.001651681005600109\n"
     ]
    }
   ],
   "source": [
    "print(np.mean(daily_log_returns_sbra))\n",
    "def annualize_log_returns(daily_log_returns):\n",
    "    annualized = np.mean(daily_log_returns) * 252\n",
    "    return annualized"
   ]
  },
  {
   "cell_type": "markdown",
   "metadata": {},
   "source": [
    "## Calculate Annualize Daily Log Return for SBRA"
   ]
  },
  {
   "cell_type": "markdown",
   "metadata": {},
   "source": [
    "10. Call the function `annualize_log_return` with the arguments `daily_log_returns_sbra`. Set it to the variable `annualized_log_return_sbra`. Then print the results. "
   ]
  },
  {
   "cell_type": "code",
   "execution_count": 54,
   "metadata": {},
   "outputs": [
    {
     "name": "stdout",
     "output_type": "stream",
     "text": [
      "0.4162236134112275\n"
     ]
    }
   ],
   "source": [
    "anualized_log_return_sbra = annualize_log_returns(daily_log_returns_sbra)\n",
    "print(anualized_log_return_sbra)"
   ]
  },
  {
   "cell_type": "markdown",
   "metadata": {},
   "source": [
    "## Calculate Annualize Daily Log Return for EQR"
   ]
  },
  {
   "cell_type": "markdown",
   "metadata": {},
   "source": [
    "11. Call the function `annualize_log_return` with the arguments `daily_log_returns_eqr`. Set it to the variable `annualized_log_return_eqr`. Then print the results. "
   ]
  },
  {
   "cell_type": "code",
   "execution_count": 55,
   "metadata": {},
   "outputs": [
    {
     "name": "stdout",
     "output_type": "stream",
     "text": [
      "0.3576230850458793\n"
     ]
    }
   ],
   "source": [
    "anualized_log_return_eqr = annualize_log_returns(daily_log_returns_eqr)\n",
    "print(anualized_log_return_eqr)"
   ]
  },
  {
   "cell_type": "markdown",
   "metadata": {},
   "source": [
    "## Compare the Annualize Daily Log Return between EQR and SBRA"
   ]
  },
  {
   "cell_type": "markdown",
   "metadata": {},
   "source": [
    "12. Based on the differences between the Annualize Daily Log Return for EQR and SBRA, Which could be more profitable in the future and why?"
   ]
  },
  {
   "cell_type": "markdown",
   "metadata": {},
   "source": [
    "SBRA could be more froffitable in the future as it has a higher anualized log return."
   ]
  },
  {
   "cell_type": "markdown",
   "metadata": {},
   "source": [
    "## Calculate Variance of Daily Log Return for SBRA"
   ]
  },
  {
   "cell_type": "markdown",
   "metadata": {},
   "source": [
    "13. Calculate the variance of the daily logarithmetic return for SBRA. Use the function `.var()` with the argument `log_daily_ror`. Set it to the variable `daily_varaince_sbra`. Then print the results. "
   ]
  },
  {
   "cell_type": "code",
   "execution_count": 56,
   "metadata": {},
   "outputs": [
    {
     "name": "stdout",
     "output_type": "stream",
     "text": [
      "0.00018858814544911925\n"
     ]
    }
   ],
   "source": [
    "daliy_varaince_sbra = np.var(daily_log_returns_sbra)\n",
    "print(daliy_varaince_sbra)"
   ]
  },
  {
   "cell_type": "markdown",
   "metadata": {},
   "source": [
    "## Calculate Variance of Daily Log Return for EQR"
   ]
  },
  {
   "cell_type": "markdown",
   "metadata": {},
   "source": [
    "14. Calculate the variance of the daily logarithmetic return for EQR. Use the function `.var()` with the argument `daily_log_returns_eqr`. Set it to the variable `daily_varaince_eqr`. Then print the results. "
   ]
  },
  {
   "cell_type": "code",
   "execution_count": 57,
   "metadata": {},
   "outputs": [
    {
     "name": "stdout",
     "output_type": "stream",
     "text": [
      "6.848242518711986e-05\n"
     ]
    }
   ],
   "source": [
    "daliy_varaince_eqr = np.var(daily_log_returns_eqr)\n",
    "print(daliy_varaince_eqr)"
   ]
  },
  {
   "cell_type": "markdown",
   "metadata": {},
   "source": [
    "## Compare the Variance of Daily Log Return between EQR and SBRA"
   ]
  },
  {
   "cell_type": "markdown",
   "metadata": {},
   "source": [
    "15. Explain which investment is more riskier based on the Variance of daily log return between EQR and SBRA ?"
   ]
  },
  {
   "cell_type": "markdown",
   "metadata": {},
   "source": [
    "EQR its the riskier investment as it has a higher varience."
   ]
  },
  {
   "cell_type": "markdown",
   "metadata": {},
   "source": [
    "## Calculate the Daily Standard Deviation for SBRA"
   ]
  },
  {
   "cell_type": "markdown",
   "metadata": {},
   "source": [
    "16. Calculate the Standard Deviation of the daily logarithmetic return for SBRA. Use the function `.std()` with the argument `daily_log_returns_sbra`. Set it to the variable `daily_sd_sbra`. Then print the results. "
   ]
  },
  {
   "cell_type": "code",
   "execution_count": 58,
   "metadata": {},
   "outputs": [
    {
     "name": "stdout",
     "output_type": "stream",
     "text": [
      "0.013732739910488338\n"
     ]
    }
   ],
   "source": [
    "daily_sd_sbra = np.std(daily_log_returns_sbra)\n",
    "print(daily_sd_sbra)"
   ]
  },
  {
   "cell_type": "markdown",
   "metadata": {},
   "source": [
    "## Calculate the Daily Standard Deviation for EQR"
   ]
  },
  {
   "cell_type": "markdown",
   "metadata": {},
   "source": [
    "17. Calculate the Standard Deviation of the daily logarithmetic return for EQR. Use the function `.std()` with the argument `daily_log_returns_eqr`. Set it to the variable `daily_sd_eqr`. Then print the results. "
   ]
  },
  {
   "cell_type": "code",
   "execution_count": 59,
   "metadata": {},
   "outputs": [
    {
     "name": "stdout",
     "output_type": "stream",
     "text": [
      "0.008275410877238655\n"
     ]
    }
   ],
   "source": [
    "daily_sd_eqr = np.std(daily_log_returns_eqr)\n",
    "print(daily_sd_eqr)"
   ]
  },
  {
   "cell_type": "markdown",
   "metadata": {},
   "source": [
    "## Compare the Daily Standard Deviation between EQR and SBRA"
   ]
  },
  {
   "cell_type": "markdown",
   "metadata": {},
   "source": [
    "18. Has your previous variance risk assessment changed based on the Daily Standard Deviation and why?"
   ]
  },
  {
   "cell_type": "markdown",
   "metadata": {},
   "source": [
    "Yes, the standard deviation of EQR is much lower than that of SBRA which shows it is actually more stable in this standardized measure"
   ]
  },
  {
   "cell_type": "markdown",
   "metadata": {},
   "source": [
    "## Calculate the Correlation between SBRA and EQR"
   ]
  },
  {
   "cell_type": "markdown",
   "metadata": {},
   "source": [
    "19. Calculate the Correlation of the daily logarithmetic return between SBRA and ERQ assets. Use the function `.corrcoef()` with the arguments `daily_log_returns_sbra` and `daily_log_returns_eqr`. Set it to the variable `corr_sbra_eqr`. Then print the results. "
   ]
  },
  {
   "cell_type": "code",
   "execution_count": 60,
   "metadata": {},
   "outputs": [
    {
     "name": "stdout",
     "output_type": "stream",
     "text": [
      "[[1.         0.61024131]\n",
      " [0.61024131 1.        ]]\n"
     ]
    }
   ],
   "source": [
    "corr_sbra_eqr = np.corrcoef(daily_log_returns_sbra, daily_log_returns_eqr)\n",
    "print(corr_sbra_eqr)"
   ]
  },
  {
   "cell_type": "markdown",
   "metadata": {},
   "source": [
    "## Interpret the Correlation between SBRA and EQR"
   ]
  },
  {
   "cell_type": "markdown",
   "metadata": {},
   "source": [
    "20. Interpret and explain the correlation between the stocks SBRA and EQR?\n",
    "\n",
    "SBRA and EQR have a fair positive correlation. "
   ]
  },
  {
   "cell_type": "markdown",
   "metadata": {},
   "source": [
    "## Final Analysis"
   ]
  },
  {
   "cell_type": "markdown",
   "metadata": {},
   "source": [
    "21. Which stock would you invest in based on risk and profitability?\n",
    "I would invest in in EQR as a safer investment as it has a lower return but also a lower deviation "
   ]
  },
  {
   "cell_type": "code",
   "execution_count": null,
   "metadata": {},
   "outputs": [],
   "source": []
  }
 ],
 "metadata": {
  "kernelspec": {
   "display_name": "Python 3",
   "language": "python",
   "name": "python3"
  },
  "language_info": {
   "codemirror_mode": {
    "name": "ipython",
    "version": 3
   },
   "file_extension": ".py",
   "mimetype": "text/x-python",
   "name": "python",
   "nbconvert_exporter": "python",
   "pygments_lexer": "ipython3",
   "version": "3.8.3"
  },
  "latex_envs": {
   "LaTeX_envs_menu_present": true,
   "autoclose": false,
   "autocomplete": true,
   "bibliofile": "biblio.bib",
   "cite_by": "apalike",
   "current_citInitial": 1,
   "eqLabelWithNumbers": true,
   "eqNumInitial": 1,
   "hotkeys": {
    "equation": "Ctrl-E",
    "itemize": "Ctrl-I"
   },
   "labels_anchors": false,
   "latex_user_defs": false,
   "report_style_numbering": false,
   "user_envs_cfg": false
  }
 },
 "nbformat": 4,
 "nbformat_minor": 2
}
